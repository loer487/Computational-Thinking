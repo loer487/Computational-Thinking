{
  "nbformat": 4,
  "nbformat_minor": 0,
  "metadata": {
    "colab": {
      "name": "week15.林龍億.ipynb",
      "provenance": [],
      "authorship_tag": "ABX9TyOhoZ6yJSuw6iEa8AKWUP4J",
      "include_colab_link": true
    },
    "kernelspec": {
      "name": "python3",
      "display_name": "Python 3"
    }
  },
  "cells": [
    {
      "cell_type": "markdown",
      "metadata": {
        "id": "view-in-github",
        "colab_type": "text"
      },
      "source": [
        "<a href=\"https://colab.research.google.com/github/loer487/Computational-Thinking/blob/master/week15_%E6%9E%97%E9%BE%8D%E5%84%84.ipynb\" target=\"_parent\"><img src=\"https://colab.research.google.com/assets/colab-badge.svg\" alt=\"Open In Colab\"/></a>"
      ]
    },
    {
      "cell_type": "code",
      "metadata": {
        "colab": {
          "base_uri": "https://localhost:8080/",
          "height": 131
        },
        "id": "klE6xIl_7tph",
        "outputId": "4711f524-2791-4029-b984-2fee1c9f8386"
      },
      "source": [
        "\r\n",
        "\r\n",
        "# 啟動模組\r\n",
        "import turtle #導入海龜模組\r\n",
        "shelly = turtle.Turtle() # 把模組中的螢幕游標叫出來\r\n",
        "shelly.shape(\"turtle\") # 將三角形改為烏龜\r\n",
        "shelly.position() # 烏龜的位置\r\n",
        "#海龜的外觀\r\n",
        "## 海龜的顏色\r\n",
        "shelly.color(\"green\", \"red\") # 內紅邊綠\r\n",
        "## 海龜畫線的顏色\r\n",
        "shelly.pencolor(\"black\") # 黑色\r\n",
        "## 調整海龜尺寸\r\n",
        "shelly.turtlesize(10,10,2) # (上下長度,左右寬度,外框粗細)變大\r\n",
        "shelly.resizemode(\"auto\") # auto表預設值,還原海龜大小\r\n",
        "shelly.turtlesize(5,5,3) # 調整成自己喜歡的大小\r\n",
        "# 海龜運動命令\r\n",
        "## 畫一條線長100\r\n",
        "shelly.forward(100)\r\n",
        "## 向左轉90度\r\n",
        "shelly.left(90)\r\n",
        "## 提起筆離開畫布\r\n",
        "shelly.penup()\r\n",
        "## 放下筆貼近畫布\r\n",
        "shelly.pendown()\r\n",
        "## 隱藏使用的turtle\r\n",
        "shelly.hideturtle()\r\n",
        "#畫筆控制\r\n",
        "## 要填滿繪製的圖案-開始\r\n",
        "shelly.begin_fill()\r\n",
        "## 用什麼顏色\r\n",
        "shelly.fillcolor(\"orange\")\r\n",
        "## 繪製圖形\r\n",
        "shelly.circle(250) #半徑250的圓\r\n",
        "shelly.circle(250, 180, 30) #半徑50,範圍180度,轉動方向30度\r\n",
        "## 要填滿繪製的圖案-停止\r\n",
        "shelly.end_fill()\r\n",
        "## 蓋章\r\n",
        "shelly.stamp()\r\n",
        "## 在螢幕寫字\r\n",
        "shelly.write(\"Turtle Rock\")\r\n",
        "\r\n",
        "# 方法(一):for 迴圈\r\n",
        "import turtle\r\n",
        "shelly = turtle.Turtle()\r\n",
        "for i in range(4): # 畫正方形 - 1 + 2 做四次 [0,1,2,3]\r\n",
        "   shelly.forward(250) # 1.畫直線\r\n",
        "   shelly.left(90) # 2.轉向\r\n",
        "   print (i) # 計數,一共四次\r\n"
      ],
      "execution_count": 13,
      "outputs": [
        {
          "output_type": "error",
          "ename": "IndentationError",
          "evalue": "ignored",
          "traceback": [
            "\u001b[0;36m  File \u001b[0;32m\"<ipython-input-13-e48e7980e17a>\"\u001b[0;36m, line \u001b[0;32m2\u001b[0m\n\u001b[0;31m    shelly.shape(\"turtle\")\u001b[0m\n\u001b[0m    ^\u001b[0m\n\u001b[0;31mIndentationError\u001b[0m\u001b[0;31m:\u001b[0m unexpected indent\n"
          ]
        }
      ]
    },
    {
      "cell_type": "code",
      "metadata": {
        "colab": {
          "base_uri": "https://localhost:8080/",
          "height": 131
        },
        "id": "ww3bTMMt_XRy",
        "outputId": "b075034a-8efb-4978-adcc-45b2669a6653"
      },
      "source": [
        "import turtle\r\n",
        " turtle.colormode(255)\r\n",
        " shelly = turtle.Turtle()\r\n",
        " shelly.color(255, 215, 0)\r\n",
        " shelly.pensize(5)\r\n",
        "\r\n",
        "for i in range(5):\r\n",
        "  shelly.forward(250)\r\n",
        "  shelly.right(144)"
      ],
      "execution_count": 15,
      "outputs": [
        {
          "output_type": "error",
          "ename": "IndentationError",
          "evalue": "ignored",
          "traceback": [
            "\u001b[0;36m  File \u001b[0;32m\"<ipython-input-15-327f39a9b360>\"\u001b[0;36m, line \u001b[0;32m2\u001b[0m\n\u001b[0;31m    turtle.colormode(255)\u001b[0m\n\u001b[0m    ^\u001b[0m\n\u001b[0;31mIndentationError\u001b[0m\u001b[0;31m:\u001b[0m unexpected indent\n"
          ]
        }
      ]
    }
  ]
}