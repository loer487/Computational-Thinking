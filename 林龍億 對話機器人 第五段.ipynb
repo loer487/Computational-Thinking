{
  "nbformat": 4,
  "nbformat_minor": 0,
  "metadata": {
    "colab": {
      "name": "「第五段.ipynb」的副本",
      "provenance": [],
      "authorship_tag": "ABX9TyOaAdoclgFVw0tC5uK0Y6jU",
      "include_colab_link": true
    },
    "kernelspec": {
      "name": "python3",
      "display_name": "Python 3"
    }
  },
  "cells": [
    {
      "cell_type": "markdown",
      "metadata": {
        "id": "view-in-github",
        "colab_type": "text"
      },
      "source": [
        "<a href=\"https://colab.research.google.com/github/loer487/Computational-Thinking/blob/master/%E6%9E%97%E9%BE%8D%E5%84%84%20%E5%B0%8D%E8%A9%B1%E6%A9%9F%E5%99%A8%E4%BA%BA%20%E7%AC%AC%E4%BA%94%E6%AE%B5.ipynb\" target=\"_parent\"><img src=\"https://colab.research.google.com/assets/colab-badge.svg\" alt=\"Open In Colab\"/></a>"
      ]
    },
    {
      "cell_type": "code",
      "metadata": {
        "colab": {
          "base_uri": "https://localhost:8080/"
        },
        "id": "tCtTVXhYLxbo",
        "outputId": "bd485899-a13f-443a-e958-1a9480215557"
      },
      "source": [
        "print(\"請問是否願意填寫滿意度調查\")\r\n",
        "answer=input(\"是或否\")\r\n",
        "if answer == \"否\":\r\n",
        "  print(\"感謝您的來訪，歡迎下次與你在會\")\r\n",
        "else:\r\n",
        "  print(\"請問在詢問約會穿搭方面的服務您的滿意度是?\")\r\n",
        "  print(\"1=滿意，2=不滿意，3=沒意見\")\r\n",
        "  answer1=input(\"滿意，不滿意或沒意見\")\r\n",
        "  print(\"請問在詢問約會餐廳方面的服務您的滿意度是?\")\r\n",
        "  answer2=input(\"滿意，不滿意或沒意見\")\r\n",
        "  print(\"請問在詢問約會電影方面的服務您的滿意度是?\")\r\n",
        "  answer3=input(\"滿意，不滿意或沒意見\")\r\n",
        "  print(\"請問在詢問賣場周邊停車服務方面的服務您的滿意度是?\")\r\n",
        "  answer4=input(\"滿意，不滿意或沒意見\")\r\n",
        "  print(\"請問您的問題是否解決了\")\r\n",
        "  answer5=input(\"1=對，2=大部分，3=小部分，4=沒(爛死了)\")\r\n",
        "  print(\"請問您對馴鹿整體的滿意度評分是?\")\r\n",
        "  answer6=input(\"1分-5分\")\r\n",
        "  if answer6 == \"5\" or answer6 == \"4\":\r\n",
        "    print(\"感謝您的支持，期待下次與你在會(*´∀`)~♥\")\r\n",
        "  if answer6 == \"3\":\r\n",
        "    print(\"感謝您的支持，我們會繼續加強服務的，期待下次與你在會\")\r\n",
        "  if answer6 == \"2\" or answer6 == \"1\":\r\n",
        "    input(\"請問你不滿意的方面在於:?\")\r\n",
        "    print(\"不好意思，我們會吸收批評改進的，期待下次讓你滿意\") \r\n",
        "\r\n",
        "\r\n",
        "\r\n",
        "\r\n",
        "\r\n",
        "\r\n"
      ],
      "execution_count": null,
      "outputs": [
        {
          "output_type": "stream",
          "text": [
            "請問是否願意填寫滿意度調查\n"
          ],
          "name": "stdout"
        }
      ]
    }
  ]
}