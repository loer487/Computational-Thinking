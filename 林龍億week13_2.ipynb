{
  "nbformat": 4,
  "nbformat_minor": 0,
  "metadata": {
    "colab": {
      "name": "林龍億week13#2.ipynb",
      "provenance": [],
      "authorship_tag": "ABX9TyP9iumFUpHPYE5LdHva99TY",
      "include_colab_link": true
    },
    "kernelspec": {
      "name": "python3",
      "display_name": "Python 3"
    }
  },
  "cells": [
    {
      "cell_type": "markdown",
      "metadata": {
        "id": "view-in-github",
        "colab_type": "text"
      },
      "source": [
        "<a href=\"https://colab.research.google.com/github/loer487/Computational-Thinking/blob/master/%E6%9E%97%E9%BE%8D%E5%84%84week13_2.ipynb\" target=\"_parent\"><img src=\"https://colab.research.google.com/assets/colab-badge.svg\" alt=\"Open In Colab\"/></a>"
      ]
    },
    {
      "cell_type": "code",
      "metadata": {
        "colab": {
          "base_uri": "https://localhost:8080/"
        },
        "id": "5MNigm0t4Yrc",
        "outputId": "c3c4ae66-4ec3-45d9-d84e-1855274c6f1b"
      },
      "source": [
        "for i in range(5):\n",
        "     print(\"Hello\")"
      ],
      "execution_count": 28,
      "outputs": [
        {
          "output_type": "stream",
          "text": [
            "Hello\n",
            "Hello\n",
            "Hello\n",
            "Hello\n",
            "Hello\n"
          ],
          "name": "stdout"
        }
      ]
    },
    {
      "cell_type": "code",
      "metadata": {
        "colab": {
          "base_uri": "https://localhost:8080/"
        },
        "id": "DODZMo3t9URp",
        "outputId": "cb660191-b550-4b18-f9d0-b8f2a0ac0a56"
      },
      "source": [
        "sum = 0\n",
        "for i in range(2,11,2):\n",
        "  sum = sum + i\n",
        "  print(\"Total is\",sum)\n",
        "  "
      ],
      "execution_count": 29,
      "outputs": [
        {
          "output_type": "stream",
          "text": [
            "Total is 2\n",
            "Total is 6\n",
            "Total is 12\n",
            "Total is 20\n",
            "Total is 30\n"
          ],
          "name": "stdout"
        }
      ]
    }
  ]
}