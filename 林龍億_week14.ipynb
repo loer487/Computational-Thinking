{
  "nbformat": 4,
  "nbformat_minor": 0,
  "metadata": {
    "colab": {
      "name": "林龍億.week14.ipynb",
      "provenance": [],
      "authorship_tag": "ABX9TyMNc1/MBtM1EEFvEV6eFybz",
      "include_colab_link": true
    },
    "kernelspec": {
      "name": "python3",
      "display_name": "Python 3"
    }
  },
  "cells": [
    {
      "cell_type": "markdown",
      "metadata": {
        "id": "view-in-github",
        "colab_type": "text"
      },
      "source": [
        "<a href=\"https://colab.research.google.com/github/loer487/Computational-Thinking/blob/master/%E6%9E%97%E9%BE%8D%E5%84%84_week14.ipynb\" target=\"_parent\"><img src=\"https://colab.research.google.com/assets/colab-badge.svg\" alt=\"Open In Colab\"/></a>"
      ]
    },
    {
      "cell_type": "code",
      "metadata": {
        "colab": {
          "base_uri": "https://localhost:8080/"
        },
        "id": "p8G7xasuqvIW",
        "outputId": "9fa497dd-2164-4ddb-c439-3d4b40a85f16"
      },
      "source": [
        "start = int(input('請輸入加總開始值?'))\r\n",
        "end = int(input('請輸入加總終止值?'))\r\n",
        "step = int(input('請輸入遞增減值?'))\r\n",
        "\r\n",
        "sum = 0\r\n",
        "for i in range(start, end,step):\r\n",
        "   sum = sum + i\r\n",
        "   print('i為', i, '時，累加結果', sum)\r\n"
      ],
      "execution_count": 9,
      "outputs": [
        {
          "output_type": "stream",
          "text": [
            "請輸入加總開始值?1\n",
            "請輸入加總終止值?1\n",
            "請輸入遞增減值?1\n"
          ],
          "name": "stdout"
        }
      ]
    },
    {
      "cell_type": "code",
      "metadata": {
        "colab": {
          "base_uri": "https://localhost:8080/"
        },
        "id": "XpKZTOV80k2K",
        "outputId": "28bddd8d-8680-49a6-bf86-a9cb5a238778"
      },
      "source": [
        "sheet = ['蛋糕', '巧克力', '餅乾']\r\n",
        "for index in [0,1,2]:\r\n",
        "  print(index, sheet[index])\r\n",
        "\r\n",
        "sheet = ['蛋糕', '巧克力', '餅乾']\r\n",
        "for index in range(0,len(sheet)):\r\n",
        "  print(index, sheet[index])\r\n"
      ],
      "execution_count": 12,
      "outputs": [
        {
          "output_type": "stream",
          "text": [
            "0 蛋糕\n",
            "1 巧克力\n",
            "2 餅乾\n",
            "0 蛋糕\n",
            "1 巧克力\n",
            "2 餅乾\n"
          ],
          "name": "stdout"
        }
      ]
    },
    {
      "cell_type": "code",
      "metadata": {
        "colab": {
          "base_uri": "https://localhost:8080/"
        },
        "id": "m7RATjGh9z8W",
        "outputId": "d7320bd2-83e1-4bf9-99f3-e14b241a252d"
      },
      "source": [
        "for i in range(1,10):\r\n",
        "  for j in range(1,10):\r\n",
        "    print(i, '*', j, '=', i*j, '\\t', sep='',end='')\r\n",
        "  print()    \r\n"
      ],
      "execution_count": 16,
      "outputs": [
        {
          "output_type": "stream",
          "text": [
            "1*1=1\t1*2=2\t1*3=3\t1*4=4\t1*5=5\t1*6=6\t1*7=7\t1*8=8\t1*9=9\t\n",
            "2*1=2\t2*2=4\t2*3=6\t2*4=8\t2*5=10\t2*6=12\t2*7=14\t2*8=16\t2*9=18\t\n",
            "3*1=3\t3*2=6\t3*3=9\t3*4=12\t3*5=15\t3*6=18\t3*7=21\t3*8=24\t3*9=27\t\n",
            "4*1=4\t4*2=8\t4*3=12\t4*4=16\t4*5=20\t4*6=24\t4*7=28\t4*8=32\t4*9=36\t\n",
            "5*1=5\t5*2=10\t5*3=15\t5*4=20\t5*5=25\t5*6=30\t5*7=35\t5*8=40\t5*9=45\t\n",
            "6*1=6\t6*2=12\t6*3=18\t6*4=24\t6*5=30\t6*6=36\t6*7=42\t6*8=48\t6*9=54\t\n",
            "7*1=7\t7*2=14\t7*3=21\t7*4=28\t7*5=35\t7*6=42\t7*7=49\t7*8=56\t7*9=63\t\n",
            "8*1=8\t8*2=16\t8*3=24\t8*4=32\t8*5=40\t8*6=48\t8*7=56\t8*8=64\t8*9=72\t\n",
            "9*1=9\t9*2=18\t9*3=27\t9*4=36\t9*5=45\t9*6=54\t9*7=63\t9*8=72\t9*9=81\t\n"
          ],
          "name": "stdout"
        }
      ]
    }
  ]
}