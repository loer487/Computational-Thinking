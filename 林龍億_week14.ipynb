{
  "nbformat": 4,
  "nbformat_minor": 0,
  "metadata": {
    "colab": {
      "name": "林龍億.week14.ipynb",
      "provenance": [],
      "authorship_tag": "ABX9TyNuA9db5xgxlTSste9b+nO6",
      "include_colab_link": true
    },
    "kernelspec": {
      "name": "python3",
      "display_name": "Python 3"
    }
  },
  "cells": [
    {
      "cell_type": "markdown",
      "metadata": {
        "id": "view-in-github",
        "colab_type": "text"
      },
      "source": [
        "<a href=\"https://colab.research.google.com/github/loer487/Computational-Thinking/blob/master/%E6%9E%97%E9%BE%8D%E5%84%84_week14.ipynb\" target=\"_parent\"><img src=\"https://colab.research.google.com/assets/colab-badge.svg\" alt=\"Open In Colab\"/></a>"
      ]
    },
    {
      "cell_type": "code",
      "metadata": {
        "colab": {
          "base_uri": "https://localhost:8080/"
        },
        "id": "p8G7xasuqvIW",
        "outputId": "9fa497dd-2164-4ddb-c439-3d4b40a85f16"
      },
      "source": [
        "start = int(input('請輸入加總開始值?'))\r\n",
        "end = int(input('請輸入加總終止值?'))\r\n",
        "step = int(input('請輸入遞增減值?'))\r\n",
        "\r\n",
        "sum = 0\r\n",
        "for i in range(start, end,step):\r\n",
        "   sum = sum + i\r\n",
        "   print('i為', i, '時，累加結果', sum)\r\n"
      ],
      "execution_count": 9,
      "outputs": [
        {
          "output_type": "stream",
          "text": [
            "請輸入加總開始值?1\n",
            "請輸入加總終止值?1\n",
            "請輸入遞增減值?1\n"
          ],
          "name": "stdout"
        }
      ]
    },
    {
      "cell_type": "code",
      "metadata": {
        "colab": {
          "base_uri": "https://localhost:8080/"
        },
        "id": "XpKZTOV80k2K",
        "outputId": "28bddd8d-8680-49a6-bf86-a9cb5a238778"
      },
      "source": [
        "sheet = ['蛋糕', '巧克力', '餅乾']\r\n",
        "for index in [0,1,2]:\r\n",
        "  print(index, sheet[index])\r\n",
        "\r\n",
        "sheet = ['蛋糕', '巧克力', '餅乾']\r\n",
        "for index in range(0,len(sheet)):\r\n",
        "  print(index, sheet[index])\r\n"
      ],
      "execution_count": 12,
      "outputs": [
        {
          "output_type": "stream",
          "text": [
            "0 蛋糕\n",
            "1 巧克力\n",
            "2 餅乾\n",
            "0 蛋糕\n",
            "1 巧克力\n",
            "2 餅乾\n"
          ],
          "name": "stdout"
        }
      ]
    }
  ]
}